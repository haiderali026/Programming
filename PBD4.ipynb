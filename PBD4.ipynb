{
 "cells": [
  {
   "cell_type": "markdown",
   "id": "6a69f89f",
   "metadata": {},
   "source": [
    "## Lecture 4"
   ]
  },
  {
   "cell_type": "code",
   "execution_count": 15,
   "id": "49ff224c",
   "metadata": {},
   "outputs": [],
   "source": [
    "s=(\"University of Central Punjab\")"
   ]
  },
  {
   "cell_type": "code",
   "execution_count": 2,
   "id": "74bc97d3",
   "metadata": {},
   "outputs": [
    {
     "data": {
      "text/plain": [
       "str"
      ]
     },
     "execution_count": 2,
     "metadata": {},
     "output_type": "execute_result"
    }
   ],
   "source": [
    "type(s)"
   ]
  },
  {
   "cell_type": "code",
   "execution_count": 3,
   "id": "6a762752",
   "metadata": {},
   "outputs": [
    {
     "name": "stdout",
     "output_type": "stream",
     "text": [
      "University of Central Punjab\n",
      "\n"
     ]
    }
   ],
   "source": [
    "print(s)"
   ]
  },
  {
   "cell_type": "code",
   "execution_count": 4,
   "id": "30255d30",
   "metadata": {},
   "outputs": [
    {
     "ename": "SyntaxError",
     "evalue": "invalid syntax (<ipython-input-4-120e4e770c7d>, line 1)",
     "output_type": "error",
     "traceback": [
      "\u001b[1;36m  File \u001b[1;32m\"<ipython-input-4-120e4e770c7d>\"\u001b[1;36m, line \u001b[1;32m1\u001b[0m\n\u001b[1;33m    s(0:5)\u001b[0m\n\u001b[1;37m       ^\u001b[0m\n\u001b[1;31mSyntaxError\u001b[0m\u001b[1;31m:\u001b[0m invalid syntax\n"
     ]
    }
   ],
   "source": [
    "s(0:5)"
   ]
  },
  {
   "cell_type": "code",
   "execution_count": 5,
   "id": "d2975781",
   "metadata": {},
   "outputs": [
    {
     "data": {
      "text/plain": [
       "'Unive'"
      ]
     },
     "execution_count": 5,
     "metadata": {},
     "output_type": "execute_result"
    }
   ],
   "source": [
    "s[0:5]"
   ]
  },
  {
   "cell_type": "code",
   "execution_count": 11,
   "id": "e902e5de",
   "metadata": {},
   "outputs": [
    {
     "data": {
      "text/plain": [
       "'kniversity of Central Punjab\\n'"
      ]
     },
     "execution_count": 11,
     "metadata": {},
     "output_type": "execute_result"
    }
   ],
   "source": [
    "s.replace(\"U\",\"k\")"
   ]
  },
  {
   "cell_type": "code",
   "execution_count": 12,
   "id": "19a520ba",
   "metadata": {},
   "outputs": [
    {
     "data": {
      "text/plain": [
       "'njab'"
      ]
     },
     "execution_count": 12,
     "metadata": {},
     "output_type": "execute_result"
    }
   ],
   "source": [
    "s[-5:-1]"
   ]
  },
  {
   "cell_type": "code",
   "execution_count": 24,
   "id": "2b8da356",
   "metadata": {},
   "outputs": [
    {
     "data": {
      "text/plain": [
       "'bajnuP lartneC fo ytisrevinU'"
      ]
     },
     "execution_count": 24,
     "metadata": {},
     "output_type": "execute_result"
    }
   ],
   "source": [
    "s[::-1]"
   ]
  },
  {
   "cell_type": "code",
   "execution_count": 28,
   "id": "422eaca2",
   "metadata": {},
   "outputs": [
    {
     "name": "stdout",
     "output_type": "stream",
     "text": [
      "University of Central Punjab Lahore\n"
     ]
    }
   ],
   "source": [
    "city=\" Lahore\"\n",
    "ucp=s+city\n",
    "print(ucp)"
   ]
  },
  {
   "cell_type": "code",
   "execution_count": 29,
   "id": "b3aaffc9",
   "metadata": {},
   "outputs": [
    {
     "data": {
      "text/plain": [
       "'university of central punjab lahore'"
      ]
     },
     "execution_count": 29,
     "metadata": {},
     "output_type": "execute_result"
    }
   ],
   "source": [
    "ucp.lower()"
   ]
  },
  {
   "cell_type": "code",
   "execution_count": 30,
   "id": "22e124ef",
   "metadata": {},
   "outputs": [
    {
     "data": {
      "text/plain": [
       "'University of central punjab lahore'"
      ]
     },
     "execution_count": 30,
     "metadata": {},
     "output_type": "execute_result"
    }
   ],
   "source": [
    "ucp.capitalize()"
   ]
  },
  {
   "cell_type": "code",
   "execution_count": 32,
   "id": "1302084c",
   "metadata": {},
   "outputs": [
    {
     "data": {
      "text/plain": [
       "'University Of Central Punjab Lahore'"
      ]
     },
     "execution_count": 32,
     "metadata": {},
     "output_type": "execute_result"
    }
   ],
   "source": [
    "ucp.title()"
   ]
  },
  {
   "cell_type": "code",
   "execution_count": 33,
   "id": "9283f7a1",
   "metadata": {},
   "outputs": [
    {
     "data": {
      "text/plain": [
       "0"
      ]
     },
     "execution_count": 33,
     "metadata": {},
     "output_type": "execute_result"
    }
   ],
   "source": [
    "ucp.find(\"U\")"
   ]
  },
  {
   "cell_type": "code",
   "execution_count": 34,
   "id": "ee0b8605",
   "metadata": {},
   "outputs": [
    {
     "data": {
      "text/plain": [
       "True"
      ]
     },
     "execution_count": 34,
     "metadata": {},
     "output_type": "execute_result"
    }
   ],
   "source": [
    "\"University\" in s"
   ]
  },
  {
   "cell_type": "code",
   "execution_count": 35,
   "id": "a1a15482",
   "metadata": {},
   "outputs": [
    {
     "data": {
      "text/plain": [
       "['University', 'of', 'Central', 'Punjab', 'Lahore']"
      ]
     },
     "execution_count": 35,
     "metadata": {},
     "output_type": "execute_result"
    }
   ],
   "source": [
    "ucp.split(\" \")"
   ]
  },
  {
   "cell_type": "code",
   "execution_count": 49,
   "id": "7ec0dff1",
   "metadata": {},
   "outputs": [],
   "source": [
    "ucphis=\"On 15 August 1996, The Punjab Group of Colleges petitioned Government of Punjab for the establishment of a university in the province. \\Punjab Institute of Computer Science (PICS), Punjab College of Commerce (PCC), Punjab Law College (PLC) and Punjab College of Information Technology (PCIT) formed the core of the university at the time of establishment. Following a restructuring in 2004, the PCBA and PICS operate under the Faculty of Management Studies and Faculty of Information Technology of the University of Central Punjab respectively. The Punjab Colleges of Commerce and the Punjab Law College respectively function under the Faculties of Commerce and of Law of the University of Central Punjab. The Faculty of Engineering (FOE) was introduced in 2002.\""
   ]
  },
  {
   "cell_type": "code",
   "execution_count": 39,
   "id": "6dac3ec1",
   "metadata": {},
   "outputs": [
    {
     "name": "stdout",
     "output_type": "stream",
     "text": [
      "On 15 August 1996, The Punjab Group of Colleges petitioned Government of Punjab for the establishment of a university in the province. \\Punjab Institute of Computer Science (PICS), Punjab College of Commerce (PCC), Punjab Law College (PLC) and Punjab College of Information Technology (PCIT) formed the core of the university at the time of establishment. Following a restructuring in 2004, the PCBA and PICS operate under the Faculty of Management Studies and Faculty of Information Technology of the University of Central Punjab respectively. The Punjab Colleges of Commerce and the Punjab Law College respectively function under the Faculties of Commerce and of Law of the University of Central Punjab. The Faculty of Engineering (FOE) was introduced in 2002.\n"
     ]
    }
   ],
   "source": [
    "print(ucphis)"
   ]
  },
  {
   "cell_type": "markdown",
   "id": "7bee139c",
   "metadata": {},
   "source": [
    "## Task 1: Count Words"
   ]
  },
  {
   "cell_type": "code",
   "execution_count": 46,
   "id": "f4d1f092",
   "metadata": {},
   "outputs": [
    {
     "name": "stdout",
     "output_type": "stream",
     "text": [
      "762\n"
     ]
    }
   ],
   "source": [
    "count=0\n",
    "for i in ucphis:\n",
    "    count+=1\n",
    "print(count)"
   ]
  },
  {
   "cell_type": "code",
   "execution_count": 51,
   "id": "47d08db0",
   "metadata": {},
   "outputs": [
    {
     "name": "stdout",
     "output_type": "stream",
     "text": [
      "118\n"
     ]
    }
   ],
   "source": [
    "count=1\n",
    "i=0\n",
    "for i in ucphis:\n",
    "    if i==\" \":\n",
    "        count+=1\n",
    "print(count)"
   ]
  },
  {
   "cell_type": "markdown",
   "id": "bf2b9549",
   "metadata": {},
   "source": [
    "## Task 2: Remove of Words"
   ]
  },
  {
   "cell_type": "code",
   "execution_count": 62,
   "id": "ffee5bfe",
   "metadata": {},
   "outputs": [
    {
     "name": "stdout",
     "output_type": "stream",
     "text": [
      "Please Enter the Word : of\n",
      "\u0000\n"
     ]
    }
   ],
   "source": [
    "rem=str(input(\"Please Enter the Word : \"))\n",
    "tmp=\"\\0\"\n",
    "for i in ucphis:\n",
    "    if rem in ucphis:\n",
    "        leng=len(rem)\n",
    "        ind=ucphis.find(rem)\n",
    "        for ind in range(leng): \n",
    "            ucphis[ind]=tmp\n",
    "\n",
    "\n",
    "print(ucphis)\n",
    "        "
   ]
  }
 ],
 "metadata": {
  "kernelspec": {
   "display_name": "Python 3",
   "language": "python",
   "name": "python3"
  },
  "language_info": {
   "codemirror_mode": {
    "name": "ipython",
    "version": 3
   },
   "file_extension": ".py",
   "mimetype": "text/x-python",
   "name": "python",
   "nbconvert_exporter": "python",
   "pygments_lexer": "ipython3",
   "version": "3.8.8"
  }
 },
 "nbformat": 4,
 "nbformat_minor": 5
}
